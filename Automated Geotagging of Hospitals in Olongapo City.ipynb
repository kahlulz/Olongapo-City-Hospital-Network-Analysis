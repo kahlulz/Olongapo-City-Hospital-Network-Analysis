{
 "cells": [
  {
   "cell_type": "markdown",
   "metadata": {},
   "source": [
    "# __Automated Geotagging of Hospitals in Olongapo City__ \n",
    "Kahlil Sebastian G. Ramos\n",
    "\n",
    "_Science Research Specialist I_ "
   ]
  },
  {
   "cell_type": "markdown",
   "metadata": {},
   "source": [
    "## Install Geopy"
   ]
  },
  {
   "cell_type": "code",
   "execution_count": null,
   "metadata": {},
   "outputs": [],
   "source": [
    "pip install --upgrade pandas geopy  "
   ]
  },
  {
   "cell_type": "markdown",
   "metadata": {},
   "source": [
    "## Try Manual Geotagging"
   ]
  },
  {
   "cell_type": "code",
   "execution_count": 13,
   "metadata": {},
   "outputs": [
    {
     "name": "stdout",
     "output_type": "stream",
     "text": [
      "60 & #62 E 18th St, Olongapo, 2200 Zambales, Philippines\n",
      "Latitude =  14.836203\n",
      "Longitude =  120.286596\n"
     ]
    }
   ],
   "source": [
    "# Importing geopy library\n",
    "from geopy.geocoders import GoogleV3\n",
    " \n",
    "# Calling the Google Geotagging API \n",
    "loc = GoogleV3(api_key='Insert Your Google API Key')\n",
    " \n",
    "# Try specifying one local hospital name first to see if the geotagging approach is workable\n",
    "getLoc = loc.geocode(\"Ridon's St. Jude Medical Center Olongapo City, Zambales\")\n",
    " \n",
    "# Printing hospital address\n",
    "print(getLoc.address)\n",
    " \n",
    "# Print hospital latitude and longitude\n",
    "print(\"Latitude = \", getLoc.latitude)\n",
    "print(\"Longitude = \", getLoc.longitude)"
   ]
  },
  {
   "cell_type": "markdown",
   "metadata": {},
   "source": [
    "## Automate Geotagging (Save Output as .csv)"
   ]
  },
  {
   "cell_type": "markdown",
   "metadata": {},
   "source": [
    "Since the geotagging approach works for the example above, let's try to implement it at a larger scale. "
   ]
  },
  {
   "cell_type": "code",
   "execution_count": 14,
   "metadata": {},
   "outputs": [
    {
     "name": "stdout",
     "output_type": "stream",
     "text": [
      "Processed: James L. Gordon Memorial Hospital\n",
      "Processed: Ridon's St. Jude Medical Center\n",
      "Processed: Alferos Hospital\n",
      "Processed: Afable Medical Center Ambulatory Care\n",
      "Processed: Sta. Cecilia Medical Center\n",
      "Processed: Pres. Ramon Magsaysay Memorial Hospital\n",
      "Processed: San Marcelino District Hospital\n",
      "Processed: Candelaria District Hospital\n",
      "Processed: Mother And Child General Hospital\n",
      "Processed: Allied Care Experts (ACE) Medical Center - Baypointe, Inc.\n",
      "Processed: Zambales Medical Mission Group Coop Hospital\n",
      "Processed: Saint Pio's Medical Center, Inc.\n",
      "Coordinates saved to Olongapo Hospitals 2023 LonLat.csv\n"
     ]
    }
   ],
   "source": [
    "import pandas as pd\n",
    "from geopy.geocoders import GoogleV3\n",
    "\n",
    "# Read the CSV file containing hospital names in Zambales\n",
    "data = pd.read_csv(r\"C:\\Users\\kahli\\Downloads\\Olongapo City Hospital Network Analysis\\Olongapo Hospitals 2023.csv\")\n",
    "\n",
    "# Initialize the geocoder\n",
    "geolocator = GoogleV3(api_key='Insert Your Google API Key')\n",
    "\n",
    "# Lists to store the results\n",
    "facility_names = []\n",
    "latitudes = []\n",
    "longitudes = []\n",
    "\n",
    "# Iterate through the hospital names\n",
    "for facility_name in data[\"Facility Name\"]:\n",
    "    try:\n",
    "        location = geolocator.geocode(facility_name + \", Olongapo City, Zambales\")\n",
    "        if location:\n",
    "            facility_names.append(facility_name)\n",
    "            latitudes.append(location.latitude)\n",
    "            longitudes.append(location.longitude)\n",
    "            print(f\"Processed: {facility_name}\")\n",
    "        else:\n",
    "            print(f\"Location not found for: {facility_name}\")\n",
    "    except Exception as e:\n",
    "        print(f\"Error processing {facility_name}: {e}\")\n",
    "\n",
    "# Create a new DataFrame to store the results\n",
    "result_data = pd.DataFrame({\n",
    "    \"Facility Name\": facility_names,\n",
    "    \"Latitude\": latitudes,\n",
    "    \"Longitude\": longitudes\n",
    "})\n",
    "\n",
    "# Save the results to a new CSV file\n",
    "result_data.to_csv(\"Olongapo Hospitals 2023 LonLat.csv\", index=False)\n",
    "\n",
    "print(\"Coordinates saved to Olongapo Hospitals 2023 LonLat.csv\")\n"
   ]
  },
  {
   "cell_type": "markdown",
   "metadata": {},
   "source": [
    "After performing geotagging automation, a .csv file containing hospital names, longitudes, and latitudes was generated. The .csv file was imported as a delimited text layer in QGIS. The hospitals were mapped in the software as shown in the figure below. Note that the yellow lines represent the local road network of Olongapo City."
   ]
  },
  {
   "cell_type": "markdown",
   "metadata": {},
   "source": [
    "<img src=\"Mapped Olongapo Hospitals.png\" alt=\"Olongapo Hospital Mapping\" />"
   ]
  },
  {
   "cell_type": "markdown",
   "metadata": {},
   "source": [
    "The program has an accuracy of __83.33%__ for Olongapo City. It was able to geotag 10 out of 12 health facilities correctly. The mapped hospitals were used as destination points for the OD Matrix Calculation performed in QGIS. For other details regarding this case study, please reach out to the author through github or e-mail."
   ]
  }
 ],
 "metadata": {
  "kernelspec": {
   "display_name": "Python 3",
   "language": "python",
   "name": "python3"
  },
  "language_info": {
   "codemirror_mode": {
    "name": "ipython",
    "version": 3
   },
   "file_extension": ".py",
   "mimetype": "text/x-python",
   "name": "python",
   "nbconvert_exporter": "python",
   "pygments_lexer": "ipython3",
   "version": "3.11.4"
  },
  "orig_nbformat": 4
 },
 "nbformat": 4,
 "nbformat_minor": 2
}
